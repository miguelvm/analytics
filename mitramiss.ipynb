{
 "cells": [
  {
   "cell_type": "markdown",
   "metadata": {},
   "source": [
    "# Ingestar datos Instituto Nacional de Estadística\n",
    "\n",
    "Este ejemplo muestra cómo podemos ingestar datos de la Encuesta de Población Activa y Encuesta Contínua de Hogares\n",
    "\n",
    "### 1. Encuesta de Población Activa\n",
    "\n",
    "Este conjunto de datos ha sido descargado de la web del [INE](https://www.ine.es/dyngs/INEbase/es/operacion.htm?c=Estadistica_C&cid=1254736176918&menu=resultados&secc=1254736030639&idp=1254735976595#!tabs-1254736030639)\n",
    "en nuestro bucket de S3:\n",
    "\n",
    "    s3://mitramiss/EPA\n",
    "\n",
    "It contains data in JSON format about United States legislators and the seats they have held\n",
    "in the the House of Representatives and the Senate.\n",
    "\n",
    "### 2. Encuesta Contínua de Hogares\n",
    "\n",
    "Este conjunto de datos ha sido descargado de la web del [INE](https://www.ine.es/dyngs/INEbase/en/operacion.htm?c=Estadistica_C&cid=1254736176952&menu=resultados&secc=1254736195203&idp=1254735572981#!tabs-1254736195203)\n",
    "en nuestro bucket de S3:\n",
    "\n",
    "    s3://mitramiss/ECHHogares\n",
    "    s3://mitramiss/ECHPersonas\n",
    "\n",
    "Empezaremos importando las librerías de AWS GLUE.\n"
   ]
  },
  {
   "cell_type": "code",
   "execution_count": 1,
   "metadata": {},
   "outputs": [
    {
     "name": "stdout",
     "output_type": "stream",
     "text": [
      "Starting Spark application\n"
     ]
    },
    {
     "data": {
      "text/html": [
       "<table>\n",
       "<tr><th>ID</th><th>YARN Application ID</th><th>Kind</th><th>State</th><th>Spark UI</th><th>Driver log</th><th>Current session?</th></tr><tr><td>2</td><td>application_1595925451260_0003</td><td>pyspark</td><td>idle</td><td><a target=\"_blank\" href=\"http://ip-172-31-42-178.eu-west-1.compute.internal:20888/proxy/application_1595925451260_0003/\">Link</a></td><td><a target=\"_blank\" href=\"http://ip-172-31-38-177.eu-west-1.compute.internal:8042/node/containerlogs/container_1595925451260_0003_01_000001/livy\">Link</a></td><td>✔</td></tr></table>"
      ],
      "text/plain": [
       "<IPython.core.display.HTML object>"
      ]
     },
     "metadata": {},
     "output_type": "display_data"
    },
    {
     "data": {
      "application/vnd.jupyter.widget-view+json": {
       "model_id": "542172e60d704a2cb937c397f9d782fd",
       "version_major": 2,
       "version_minor": 0
      },
      "text/plain": [
       "FloatProgress(value=0.0, bar_style='info', description='Progress:', layout=Layout(height='25px', width='50%'),…"
      ]
     },
     "metadata": {},
     "output_type": "display_data"
    },
    {
     "name": "stdout",
     "output_type": "stream",
     "text": [
      "SparkSession available as 'spark'.\n"
     ]
    },
    {
     "data": {
      "application/vnd.jupyter.widget-view+json": {
       "model_id": "0c68bf0d5c654d7fa657cb40f4b88b15",
       "version_major": 2,
       "version_minor": 0
      },
      "text/plain": [
       "FloatProgress(value=0.0, bar_style='info', description='Progress:', layout=Layout(height='25px', width='50%'),…"
      ]
     },
     "metadata": {},
     "output_type": "display_data"
    }
   ],
   "source": [
    "import sys\n",
    "from awsglue.transforms import *\n",
    "from awsglue.utils import getResolvedOptions\n",
    "from pyspark.context import SparkContext\n",
    "from awsglue.context import GlueContext\n",
    "from awsglue.job import Job\n",
    "\n",
    "glueContext = GlueContext(SparkContext.getOrCreate())\n",
    "spark = glueContext.spark_session"
   ]
  },
  {
   "cell_type": "markdown",
   "metadata": {},
   "source": [
    "### 3. Comprobación de los esquemas que el crawler ha identificado\n",
    "\n",
    "A continuación visualizaremos el esquema de la tabla `echhogares` mediante las siguientes líneas:"
   ]
  },
  {
   "cell_type": "code",
   "execution_count": 3,
   "metadata": {
    "scrolled": true
   },
   "outputs": [
    {
     "data": {
      "application/vnd.jupyter.widget-view+json": {
       "model_id": "",
       "version_major": 2,
       "version_minor": 0
      },
      "text/plain": [
       "FloatProgress(value=0.0, bar_style='info', description='Progress:', layout=Layout(height='25px', width='50%'),…"
      ]
     },
     "metadata": {},
     "output_type": "display_data"
    },
    {
     "name": "stdout",
     "output_type": "stream",
     "text": [
      "root\n",
      "|-- id_viv: long\n",
      "|-- periodo: long\n",
      "|-- tamano: choice\n",
      "|    |-- long\n",
      "|    |-- string\n",
      "|-- idq_pv: long\n",
      "|-- ca: long\n",
      "|-- faccal: double\n",
      "|-- regvi: long\n",
      "|-- cocina: long\n",
      "|-- aseos: long\n",
      "|-- comedores: long\n",
      "|-- dormitorios: long\n",
      "|-- trasteros: long\n",
      "|-- otrashab: long\n",
      "|-- habvi: long\n",
      "|-- metrosvi: long\n",
      "|-- tipoviv: long\n",
      "|-- anedi: long\n",
      "|-- anoanedi: choice\n",
      "|    |-- long\n",
      "|    |-- string\n",
      "|-- fedi: long\n",
      "|-- tamtoho: long\n",
      "|-- densidadvi: double\n",
      "|-- tipoho: choice\n",
      "|    |-- long\n",
      "|    |-- string\n",
      "|-- nacho: long\n",
      "|-- nucleofam: choice\n",
      "|    |-- long\n",
      "|    |-- string\n",
      "|-- nhijopar: string\n",
      "|-- nhijo: string\n",
      "|-- nhijomenor: string"
     ]
    }
   ],
   "source": [
    "echhogares_dynamicframe = glueContext.create_dynamic_frame.from_catalog(\n",
    "       database = \"epa\",\n",
    "       table_name = \"echhogares\")\n",
    "echhogares_dynamicframe.printSchema()"
   ]
  },
  {
   "cell_type": "code",
   "execution_count": 5,
   "metadata": {},
   "outputs": [
    {
     "data": {
      "application/vnd.jupyter.widget-view+json": {
       "model_id": "",
       "version_major": 2,
       "version_minor": 0
      },
      "text/plain": [
       "FloatProgress(value=0.0, bar_style='info', description='Progress:', layout=Layout(height='25px', width='50%'),…"
      ]
     },
     "metadata": {},
     "output_type": "display_data"
    },
    {
     "name": "stdout",
     "output_type": "stream",
     "text": [
      "root\n",
      "|-- id_viv: long\n",
      "|-- periodo: long\n",
      "|-- tamano: long\n",
      "|-- idq_pv: long\n",
      "|-- ca: long\n",
      "|-- faccal: double\n",
      "|-- regvi: long\n",
      "|-- cocina: long\n",
      "|-- aseos: long\n",
      "|-- comedores: long\n",
      "|-- dormitorios: long\n",
      "|-- trasteros: long\n",
      "|-- otrashab: long\n",
      "|-- habvi: long\n",
      "|-- metrosvi: long\n",
      "|-- tipoviv: long\n",
      "|-- anedi: long\n",
      "|-- anoanedi: long\n",
      "|-- fedi: long\n",
      "|-- tamtoho: long\n",
      "|-- densidadvi: double\n",
      "|-- tipoho: long\n",
      "|-- nacho: long\n",
      "|-- nucleofam: long\n",
      "|-- nhijopar: string\n",
      "|-- nhijo: string\n",
      "|-- nhijomenor: string"
     ]
    }
   ],
   "source": [
    "echhogares_res = echhogares_dynamicframe.resolveChoice(specs = [('tamano','cast:long'),('anoanedi','cast:long'),\n",
    "                                                             ('tipoho','cast:long'),('nucleofam','cast:long')])\n",
    "echhogares_res.printSchema()"
   ]
  },
  {
   "cell_type": "code",
   "execution_count": 6,
   "metadata": {},
   "outputs": [
    {
     "data": {
      "application/vnd.jupyter.widget-view+json": {
       "model_id": "",
       "version_major": 2,
       "version_minor": 0
      },
      "text/plain": [
       "FloatProgress(value=0.0, bar_style='info', description='Progress:', layout=Layout(height='25px', width='50%'),…"
      ]
     },
     "metadata": {},
     "output_type": "display_data"
    },
    {
     "name": "stdout",
     "output_type": "stream",
     "text": [
      "<awsglue.dynamicframe.DynamicFrame object at 0x7fe57bb784a8>"
     ]
    }
   ],
   "source": [
    "glueContext.write_dynamic_frame.from_options(\n",
    "       frame = echhogares_res,\n",
    "       connection_type = \"s3\",\n",
    "       connection_options = {\"path\": \"s3://mitramiss/ECHHogares_parquet\"},\n",
    "       format = \"parquet\")"
   ]
  },
  {
   "cell_type": "markdown",
   "metadata": {},
   "source": [
    "To put all the history data into a single file, we need to convert it to a data frame, repartition it, and\n",
    "write it out."
   ]
  },
  {
   "cell_type": "code",
   "execution_count": null,
   "metadata": {},
   "outputs": [],
   "source": []
  }
 ],
 "metadata": {
  "kernelspec": {
   "display_name": "Sparkmagic (PySpark)",
   "language": "",
   "name": "pysparkkernel"
  },
  "language_info": {
   "codemirror_mode": {
    "name": "python",
    "version": 3
   },
   "mimetype": "text/x-python",
   "name": "pyspark",
   "pygments_lexer": "python3"
  }
 },
 "nbformat": 4,
 "nbformat_minor": 4
}
